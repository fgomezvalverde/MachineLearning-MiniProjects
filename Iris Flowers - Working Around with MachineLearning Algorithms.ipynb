{
  "nbformat": 4,
  "nbformat_minor": 0,
  "metadata": {
    "colab": {
      "name": "Tarea-3.ipynb",
      "version": "0.3.2",
      "provenance": [],
      "collapsed_sections": []
    },
    "kernelspec": {
      "name": "python3",
      "display_name": "Python 3"
    }
  },
  "cells": [
    {
      "cell_type": "markdown",
      "metadata": {
        "id": "LKH1DnhBjGCk",
        "colab_type": "text"
      },
      "source": [
        "#Homework #3 Fabián Gómez y Andrea Exarahi\n",
        "\n",
        "We will evaluate the Iris Flowers Dataset with 3 diferent algorithm:\n",
        "\n",
        "\n",
        "1.   Nearest Neighbor\n",
        "2.   Naive Bayes Classifier\n",
        "3.   Decision Trees\n",
        "4.  Ensemble Model - Ada Boost\n",
        "\n",
        "\n",
        "We will follow the next steps in order to acomplish that:\n",
        "1.  Get Data  (Same for all the algorithms)\n",
        "2.  Preprosessing Data (Same for all the algorithms)\n",
        "3.  Train Model\n",
        "4.  Test Data.\n",
        "5.   Improve- Using HyperParameters\n",
        "\n",
        "And finally we will present some conclusions from the research."
      ]
    },
    {
      "cell_type": "markdown",
      "metadata": {
        "id": "5UnMpDUHZlfJ",
        "colab_type": "text"
      },
      "source": [
        "#About the Iris Flowers Dataset\n",
        "\n",
        "\n",
        "The Iris Flowers Dataset involves predicting the flower species given measurements of iris flowers.\n",
        "\n",
        "It is a multi-class classification problem. The number of observations for each class is balanced. There are 150 observations with 4 input variables and 1 output variable. The variable names are as follows:\n",
        "\n",
        "1.  Sepal length in cm.\n",
        "2.  Sepal width in cm.\n",
        "3.  Petal length in cm.\n",
        "4.  Petal width in cm.\n",
        "5.  Class (Iris Setosa, Iris Versicolour, Iris Virginica).\n",
        "\n",
        "Took data set and description problem from: https://machinelearningmastery.com/standard-machine-learning-datasets/"
      ]
    },
    {
      "cell_type": "markdown",
      "metadata": {
        "id": "So66PVCFvbkO",
        "colab_type": "text"
      },
      "source": [
        "##Dependencies"
      ]
    },
    {
      "cell_type": "code",
      "metadata": {
        "id": "TijW4okwvVrJ",
        "colab_type": "code",
        "colab": {}
      },
      "source": [
        "import numpy as np\n",
        "import pandas as pd\n",
        "\n",
        "from sklearn import preprocessing\n",
        "from sklearn.model_selection import train_test_split\n",
        "\n",
        "from sklearn.naive_bayes import GaussianNB\n",
        "\n",
        "from sklearn.neighbors import KNeighborsClassifier\n",
        "import matplotlib.pyplot as plt\n",
        "\n",
        "from sklearn.tree import DecisionTreeClassifier\n",
        "from sklearn.metrics import accuracy_score\n",
        "\n",
        "from sklearn. ensemble import BaggingClassifier, AdaBoostClassifier #For Classification\n",
        "from sklearn. ensemble import VotingClassifier"
      ],
      "execution_count": 0,
      "outputs": []
    },
    {
      "cell_type": "markdown",
      "metadata": {
        "id": "muPCeoa4K7I1",
        "colab_type": "text"
      },
      "source": [
        "#Configuration Variables"
      ]
    },
    {
      "cell_type": "code",
      "metadata": {
        "id": "9I-yG-2IK9pd",
        "colab_type": "code",
        "colab": {}
      },
      "source": [
        "vRandomSeed = 21\n",
        "vTest_Size = 0.30#%"
      ],
      "execution_count": 0,
      "outputs": []
    },
    {
      "cell_type": "markdown",
      "metadata": {
        "id": "9-XEC2NovjZP",
        "colab_type": "text"
      },
      "source": [
        "##Step One - Get Data (Same for all the algorithms)"
      ]
    },
    {
      "cell_type": "code",
      "metadata": {
        "id": "AM1K-OD7jC17",
        "colab_type": "code",
        "colab": {}
      },
      "source": [
        "vData = pd.read_csv('http://archive.ics.uci.edu/ml/machine-learning-databases/iris/iris.data')"
      ],
      "execution_count": 0,
      "outputs": []
    },
    {
      "cell_type": "markdown",
      "metadata": {
        "id": "oTpfAuPWauM8",
        "colab_type": "text"
      },
      "source": [
        "Cheking Data was successfully loaded"
      ]
    },
    {
      "cell_type": "code",
      "metadata": {
        "id": "Dm7-sYTFaxbM",
        "colab_type": "code",
        "outputId": "ad3e39c8-e645-4c1a-f4b1-2fa60a8cd3a4",
        "colab": {
          "base_uri": "https://localhost:8080/",
          "height": 204
        }
      },
      "source": [
        "vData.head()"
      ],
      "execution_count": 0,
      "outputs": [
        {
          "output_type": "execute_result",
          "data": {
            "text/html": [
              "<div>\n",
              "<style scoped>\n",
              "    .dataframe tbody tr th:only-of-type {\n",
              "        vertical-align: middle;\n",
              "    }\n",
              "\n",
              "    .dataframe tbody tr th {\n",
              "        vertical-align: top;\n",
              "    }\n",
              "\n",
              "    .dataframe thead th {\n",
              "        text-align: right;\n",
              "    }\n",
              "</style>\n",
              "<table border=\"1\" class=\"dataframe\">\n",
              "  <thead>\n",
              "    <tr style=\"text-align: right;\">\n",
              "      <th></th>\n",
              "      <th>5.1</th>\n",
              "      <th>3.5</th>\n",
              "      <th>1.4</th>\n",
              "      <th>0.2</th>\n",
              "      <th>Iris-setosa</th>\n",
              "    </tr>\n",
              "  </thead>\n",
              "  <tbody>\n",
              "    <tr>\n",
              "      <th>0</th>\n",
              "      <td>4.9</td>\n",
              "      <td>3.0</td>\n",
              "      <td>1.4</td>\n",
              "      <td>0.2</td>\n",
              "      <td>Iris-setosa</td>\n",
              "    </tr>\n",
              "    <tr>\n",
              "      <th>1</th>\n",
              "      <td>4.7</td>\n",
              "      <td>3.2</td>\n",
              "      <td>1.3</td>\n",
              "      <td>0.2</td>\n",
              "      <td>Iris-setosa</td>\n",
              "    </tr>\n",
              "    <tr>\n",
              "      <th>2</th>\n",
              "      <td>4.6</td>\n",
              "      <td>3.1</td>\n",
              "      <td>1.5</td>\n",
              "      <td>0.2</td>\n",
              "      <td>Iris-setosa</td>\n",
              "    </tr>\n",
              "    <tr>\n",
              "      <th>3</th>\n",
              "      <td>5.0</td>\n",
              "      <td>3.6</td>\n",
              "      <td>1.4</td>\n",
              "      <td>0.2</td>\n",
              "      <td>Iris-setosa</td>\n",
              "    </tr>\n",
              "    <tr>\n",
              "      <th>4</th>\n",
              "      <td>5.4</td>\n",
              "      <td>3.9</td>\n",
              "      <td>1.7</td>\n",
              "      <td>0.4</td>\n",
              "      <td>Iris-setosa</td>\n",
              "    </tr>\n",
              "  </tbody>\n",
              "</table>\n",
              "</div>"
            ],
            "text/plain": [
              "   5.1  3.5  1.4  0.2  Iris-setosa\n",
              "0  4.9  3.0  1.4  0.2  Iris-setosa\n",
              "1  4.7  3.2  1.3  0.2  Iris-setosa\n",
              "2  4.6  3.1  1.5  0.2  Iris-setosa\n",
              "3  5.0  3.6  1.4  0.2  Iris-setosa\n",
              "4  5.4  3.9  1.7  0.4  Iris-setosa"
            ]
          },
          "metadata": {
            "tags": []
          },
          "execution_count": 4
        }
      ]
    },
    {
      "cell_type": "markdown",
      "metadata": {
        "id": "z6XxNRPKbWco",
        "colab_type": "text"
      },
      "source": [
        "Adding columns names and Checking everything fine"
      ]
    },
    {
      "cell_type": "code",
      "metadata": {
        "id": "RmTrJfEvbc6K",
        "colab_type": "code",
        "outputId": "6f4f70c2-a3b1-448c-c733-57f3d4b5c988",
        "colab": {
          "base_uri": "https://localhost:8080/",
          "height": 309
        }
      },
      "source": [
        "vData = pd.read_csv('http://archive.ics.uci.edu/ml/machine-learning-databases/iris/iris.data',header=None)\n",
        "vData.columns = [\"SepalLength(cm)\", \"SepalWidth(cm)\", \"PetalLength(cm)\", \"PetalWidth(cm)\",\"Class\"]\n",
        "vData.head()"
      ],
      "execution_count": 0,
      "outputs": [
        {
          "output_type": "execute_result",
          "data": {
            "text/html": [
              "<div>\n",
              "<style scoped>\n",
              "    .dataframe tbody tr th:only-of-type {\n",
              "        vertical-align: middle;\n",
              "    }\n",
              "\n",
              "    .dataframe tbody tr th {\n",
              "        vertical-align: top;\n",
              "    }\n",
              "\n",
              "    .dataframe thead th {\n",
              "        text-align: right;\n",
              "    }\n",
              "</style>\n",
              "<table border=\"1\" class=\"dataframe\">\n",
              "  <thead>\n",
              "    <tr style=\"text-align: right;\">\n",
              "      <th></th>\n",
              "      <th>SepalLength(cm)</th>\n",
              "      <th>SepalWidth(cm)</th>\n",
              "      <th>PetalLength(cm)</th>\n",
              "      <th>PetalWidth(cm)</th>\n",
              "      <th>Class</th>\n",
              "    </tr>\n",
              "  </thead>\n",
              "  <tbody>\n",
              "    <tr>\n",
              "      <th>0</th>\n",
              "      <td>5.1</td>\n",
              "      <td>3.5</td>\n",
              "      <td>1.4</td>\n",
              "      <td>0.2</td>\n",
              "      <td>Iris-setosa</td>\n",
              "    </tr>\n",
              "    <tr>\n",
              "      <th>1</th>\n",
              "      <td>4.9</td>\n",
              "      <td>3.0</td>\n",
              "      <td>1.4</td>\n",
              "      <td>0.2</td>\n",
              "      <td>Iris-setosa</td>\n",
              "    </tr>\n",
              "    <tr>\n",
              "      <th>2</th>\n",
              "      <td>4.7</td>\n",
              "      <td>3.2</td>\n",
              "      <td>1.3</td>\n",
              "      <td>0.2</td>\n",
              "      <td>Iris-setosa</td>\n",
              "    </tr>\n",
              "    <tr>\n",
              "      <th>3</th>\n",
              "      <td>4.6</td>\n",
              "      <td>3.1</td>\n",
              "      <td>1.5</td>\n",
              "      <td>0.2</td>\n",
              "      <td>Iris-setosa</td>\n",
              "    </tr>\n",
              "    <tr>\n",
              "      <th>4</th>\n",
              "      <td>5.0</td>\n",
              "      <td>3.6</td>\n",
              "      <td>1.4</td>\n",
              "      <td>0.2</td>\n",
              "      <td>Iris-setosa</td>\n",
              "    </tr>\n",
              "  </tbody>\n",
              "</table>\n",
              "</div>"
            ],
            "text/plain": [
              "   SepalLength(cm)  SepalWidth(cm)  ...  PetalWidth(cm)        Class\n",
              "0              5.1             3.5  ...             0.2  Iris-setosa\n",
              "1              4.9             3.0  ...             0.2  Iris-setosa\n",
              "2              4.7             3.2  ...             0.2  Iris-setosa\n",
              "3              4.6             3.1  ...             0.2  Iris-setosa\n",
              "4              5.0             3.6  ...             0.2  Iris-setosa\n",
              "\n",
              "[5 rows x 5 columns]"
            ]
          },
          "metadata": {
            "tags": []
          },
          "execution_count": 5
        }
      ]
    },
    {
      "cell_type": "markdown",
      "metadata": {
        "id": "ZXxvV7RzcIhC",
        "colab_type": "text"
      },
      "source": [
        "## Step Two - Preprosessing Data (Same for all the algorithms)"
      ]
    },
    {
      "cell_type": "markdown",
      "metadata": {
        "id": "SbDY3MYxft-N",
        "colab_type": "text"
      },
      "source": [
        "Checking basic description of data Set"
      ]
    },
    {
      "cell_type": "code",
      "metadata": {
        "id": "aT_DPzN_cMyu",
        "colab_type": "code",
        "outputId": "58002fdb-4eb4-41c0-bfbf-ef67318b4daf",
        "colab": {
          "base_uri": "https://localhost:8080/",
          "height": 34
        }
      },
      "source": [
        "vData.shape"
      ],
      "execution_count": 0,
      "outputs": [
        {
          "output_type": "execute_result",
          "data": {
            "text/plain": [
              "(150, 5)"
            ]
          },
          "metadata": {
            "tags": []
          },
          "execution_count": 6
        }
      ]
    },
    {
      "cell_type": "code",
      "metadata": {
        "id": "8EpAIBSIf7me",
        "colab_type": "code",
        "outputId": "d0c2dc9c-45c9-4603-bbce-82181334a0c2",
        "colab": {
          "base_uri": "https://localhost:8080/",
          "height": 297
        }
      },
      "source": [
        "vData.describe()"
      ],
      "execution_count": 0,
      "outputs": [
        {
          "output_type": "execute_result",
          "data": {
            "text/html": [
              "<div>\n",
              "<style scoped>\n",
              "    .dataframe tbody tr th:only-of-type {\n",
              "        vertical-align: middle;\n",
              "    }\n",
              "\n",
              "    .dataframe tbody tr th {\n",
              "        vertical-align: top;\n",
              "    }\n",
              "\n",
              "    .dataframe thead th {\n",
              "        text-align: right;\n",
              "    }\n",
              "</style>\n",
              "<table border=\"1\" class=\"dataframe\">\n",
              "  <thead>\n",
              "    <tr style=\"text-align: right;\">\n",
              "      <th></th>\n",
              "      <th>SepalLength(cm)</th>\n",
              "      <th>SepalWidth(cm)</th>\n",
              "      <th>PetalLength(cm)</th>\n",
              "      <th>PetalWidth(cm)</th>\n",
              "    </tr>\n",
              "  </thead>\n",
              "  <tbody>\n",
              "    <tr>\n",
              "      <th>count</th>\n",
              "      <td>150.000000</td>\n",
              "      <td>150.000000</td>\n",
              "      <td>150.000000</td>\n",
              "      <td>150.000000</td>\n",
              "    </tr>\n",
              "    <tr>\n",
              "      <th>mean</th>\n",
              "      <td>5.843333</td>\n",
              "      <td>3.054000</td>\n",
              "      <td>3.758667</td>\n",
              "      <td>1.198667</td>\n",
              "    </tr>\n",
              "    <tr>\n",
              "      <th>std</th>\n",
              "      <td>0.828066</td>\n",
              "      <td>0.433594</td>\n",
              "      <td>1.764420</td>\n",
              "      <td>0.763161</td>\n",
              "    </tr>\n",
              "    <tr>\n",
              "      <th>min</th>\n",
              "      <td>4.300000</td>\n",
              "      <td>2.000000</td>\n",
              "      <td>1.000000</td>\n",
              "      <td>0.100000</td>\n",
              "    </tr>\n",
              "    <tr>\n",
              "      <th>25%</th>\n",
              "      <td>5.100000</td>\n",
              "      <td>2.800000</td>\n",
              "      <td>1.600000</td>\n",
              "      <td>0.300000</td>\n",
              "    </tr>\n",
              "    <tr>\n",
              "      <th>50%</th>\n",
              "      <td>5.800000</td>\n",
              "      <td>3.000000</td>\n",
              "      <td>4.350000</td>\n",
              "      <td>1.300000</td>\n",
              "    </tr>\n",
              "    <tr>\n",
              "      <th>75%</th>\n",
              "      <td>6.400000</td>\n",
              "      <td>3.300000</td>\n",
              "      <td>5.100000</td>\n",
              "      <td>1.800000</td>\n",
              "    </tr>\n",
              "    <tr>\n",
              "      <th>max</th>\n",
              "      <td>7.900000</td>\n",
              "      <td>4.400000</td>\n",
              "      <td>6.900000</td>\n",
              "      <td>2.500000</td>\n",
              "    </tr>\n",
              "  </tbody>\n",
              "</table>\n",
              "</div>"
            ],
            "text/plain": [
              "       SepalLength(cm)  SepalWidth(cm)  PetalLength(cm)  PetalWidth(cm)\n",
              "count       150.000000      150.000000       150.000000      150.000000\n",
              "mean          5.843333        3.054000         3.758667        1.198667\n",
              "std           0.828066        0.433594         1.764420        0.763161\n",
              "min           4.300000        2.000000         1.000000        0.100000\n",
              "25%           5.100000        2.800000         1.600000        0.300000\n",
              "50%           5.800000        3.000000         4.350000        1.300000\n",
              "75%           6.400000        3.300000         5.100000        1.800000\n",
              "max           7.900000        4.400000         6.900000        2.500000"
            ]
          },
          "metadata": {
            "tags": []
          },
          "execution_count": 7
        }
      ]
    },
    {
      "cell_type": "markdown",
      "metadata": {
        "id": "f2uWGgpjnD04",
        "colab_type": "text"
      },
      "source": [
        "Checking max values and min values from Columns, is good to check this to determinate how good can be the standarize or normalization"
      ]
    },
    {
      "cell_type": "code",
      "metadata": {
        "id": "MZj09wdPnHoH",
        "colab_type": "code",
        "outputId": "c002a1bc-1185-4a49-8af0-c18490c6754d",
        "colab": {
          "base_uri": "https://localhost:8080/",
          "height": 119
        }
      },
      "source": [
        "vData.max()"
      ],
      "execution_count": 0,
      "outputs": [
        {
          "output_type": "execute_result",
          "data": {
            "text/plain": [
              "SepalLength(cm)               7.9\n",
              "SepalWidth(cm)                4.4\n",
              "PetalLength(cm)               6.9\n",
              "PetalWidth(cm)                2.5\n",
              "Class              Iris-virginica\n",
              "dtype: object"
            ]
          },
          "metadata": {
            "tags": []
          },
          "execution_count": 8
        }
      ]
    },
    {
      "cell_type": "code",
      "metadata": {
        "id": "mKqwV22ZnKj-",
        "colab_type": "code",
        "outputId": "0d95abdc-9021-4138-882e-43d73e21b9af",
        "colab": {
          "base_uri": "https://localhost:8080/",
          "height": 119
        }
      },
      "source": [
        "vData.min()"
      ],
      "execution_count": 0,
      "outputs": [
        {
          "output_type": "execute_result",
          "data": {
            "text/plain": [
              "SepalLength(cm)            4.3\n",
              "SepalWidth(cm)               2\n",
              "PetalLength(cm)              1\n",
              "PetalWidth(cm)             0.1\n",
              "Class              Iris-setosa\n",
              "dtype: object"
            ]
          },
          "metadata": {
            "tags": []
          },
          "execution_count": 9
        }
      ]
    },
    {
      "cell_type": "markdown",
      "metadata": {
        "id": "gTP2GQrjg3X-",
        "colab_type": "text"
      },
      "source": [
        "Checking if there is any null valueson the Data Set"
      ]
    },
    {
      "cell_type": "code",
      "metadata": {
        "id": "4lSZKs43hAqx",
        "colab_type": "code",
        "outputId": "43b7c16c-53a4-4c43-8bca-fe05326deae8",
        "colab": {
          "base_uri": "https://localhost:8080/",
          "height": 34
        }
      },
      "source": [
        "vData.isnull().values.any()"
      ],
      "execution_count": 0,
      "outputs": [
        {
          "output_type": "execute_result",
          "data": {
            "text/plain": [
              "False"
            ]
          },
          "metadata": {
            "tags": []
          },
          "execution_count": 10
        }
      ]
    },
    {
      "cell_type": "markdown",
      "metadata": {
        "id": "aBrpo10ihdyh",
        "colab_type": "text"
      },
      "source": [
        "Checking possible values for Class Category"
      ]
    },
    {
      "cell_type": "code",
      "metadata": {
        "id": "EYOZZ9UohkST",
        "colab_type": "code",
        "outputId": "d26811dc-60f2-4d97-dc30-3d9a277a50a0",
        "colab": {
          "base_uri": "https://localhost:8080/",
          "height": 34
        }
      },
      "source": [
        "vData.Class.unique()"
      ],
      "execution_count": 0,
      "outputs": [
        {
          "output_type": "execute_result",
          "data": {
            "text/plain": [
              "array(['Iris-setosa', 'Iris-versicolor', 'Iris-virginica'], dtype=object)"
            ]
          },
          "metadata": {
            "tags": []
          },
          "execution_count": 11
        }
      ]
    },
    {
      "cell_type": "markdown",
      "metadata": {
        "id": "BamqGXPBhsf5",
        "colab_type": "text"
      },
      "source": [
        "Changing Class Category to numbers"
      ]
    },
    {
      "cell_type": "code",
      "metadata": {
        "id": "aWTdrylVh5s0",
        "colab_type": "code",
        "colab": {}
      },
      "source": [
        "vData['Class']=vData['Class'].replace({'Iris-setosa': 0, 'Iris-versicolor' :1,'Iris-virginica':2})"
      ],
      "execution_count": 0,
      "outputs": []
    },
    {
      "cell_type": "markdown",
      "metadata": {
        "id": "ggqBfz0FkysH",
        "colab_type": "text"
      },
      "source": [
        "Separate Data between X Data and Y Data"
      ]
    },
    {
      "cell_type": "code",
      "metadata": {
        "id": "J58-kwqvJlNA",
        "colab_type": "code",
        "colab": {}
      },
      "source": [
        "vX_Data = vData[[\"SepalLength(cm)\", \"SepalWidth(cm)\", \"PetalLength(cm)\", \"PetalWidth(cm)\"]]\n",
        "vY_Data = vData[['Class']]"
      ],
      "execution_count": 0,
      "outputs": []
    },
    {
      "cell_type": "markdown",
      "metadata": {
        "id": "kR52hyzQJ6Tt",
        "colab_type": "text"
      },
      "source": [
        "Now, is time to split the Data in Training and Test "
      ]
    },
    {
      "cell_type": "code",
      "metadata": {
        "id": "2E9fUjcuk8Ji",
        "colab_type": "code",
        "colab": {}
      },
      "source": [
        "vX_Data_Train, vX_Data_Test, vY_Data_Train, vY_Data_Test = train_test_split(vX_Data,vY_Data, random_state=vRandomSeed,test_size=vTest_Size)"
      ],
      "execution_count": 0,
      "outputs": []
    },
    {
      "cell_type": "markdown",
      "metadata": {
        "id": "4Ymgper-lxM_",
        "colab_type": "text"
      },
      "source": [
        "Now we are going to standarized the X Data, there is not going to be a big diference because the type of the X Data is all representing in centimeters and the values are from 0.1 to 7.9  however it will improve a bit our results and is a good practice as well.\n",
        "\n",
        "***Important: Im going to use the same criteria that got from standarize the Train X Data to the Test X Data, is named adove as: vStandarizeCriteria\n",
        "\n",
        "For more information look this link: \n",
        "https://medium.com/@urvashilluniya/why-data-normalization-is-necessary-for-machine-learning-models-681b65a05029"
      ]
    },
    {
      "cell_type": "code",
      "metadata": {
        "id": "_rsO3nKqmdf4",
        "colab_type": "code",
        "colab": {}
      },
      "source": [
        "vStandarizeCriteria = preprocessing.StandardScaler().fit(vX_Data_Train)"
      ],
      "execution_count": 0,
      "outputs": []
    },
    {
      "cell_type": "markdown",
      "metadata": {
        "id": "S-n2nlctIDWt",
        "colab_type": "text"
      },
      "source": [
        "Standarize Train Data"
      ]
    },
    {
      "cell_type": "code",
      "metadata": {
        "id": "L9LsTBLFHaZC",
        "colab_type": "code",
        "outputId": "7ebb33d9-0ebe-4f47-d0c0-14faa28eeb62",
        "colab": {
          "base_uri": "https://localhost:8080/",
          "height": 204
        }
      },
      "source": [
        "vScaled_X_Data_Train = vStandarizeCriteria.transform(vX_Data_Train)\n",
        "vX_Data_Train = pd.DataFrame(vScaled_X_Data_Train, columns=vX_Data.columns)\n",
        "vX_Data_Train.head()"
      ],
      "execution_count": 0,
      "outputs": [
        {
          "output_type": "execute_result",
          "data": {
            "text/html": [
              "<div>\n",
              "<style scoped>\n",
              "    .dataframe tbody tr th:only-of-type {\n",
              "        vertical-align: middle;\n",
              "    }\n",
              "\n",
              "    .dataframe tbody tr th {\n",
              "        vertical-align: top;\n",
              "    }\n",
              "\n",
              "    .dataframe thead th {\n",
              "        text-align: right;\n",
              "    }\n",
              "</style>\n",
              "<table border=\"1\" class=\"dataframe\">\n",
              "  <thead>\n",
              "    <tr style=\"text-align: right;\">\n",
              "      <th></th>\n",
              "      <th>SepalLength(cm)</th>\n",
              "      <th>SepalWidth(cm)</th>\n",
              "      <th>PetalLength(cm)</th>\n",
              "      <th>PetalWidth(cm)</th>\n",
              "    </tr>\n",
              "  </thead>\n",
              "  <tbody>\n",
              "    <tr>\n",
              "      <th>0</th>\n",
              "      <td>-0.421295</td>\n",
              "      <td>1.072915</td>\n",
              "      <td>-1.358921</td>\n",
              "      <td>-1.267484</td>\n",
              "    </tr>\n",
              "    <tr>\n",
              "      <th>1</th>\n",
              "      <td>-1.129071</td>\n",
              "      <td>0.110043</td>\n",
              "      <td>-1.247751</td>\n",
              "      <td>-1.397197</td>\n",
              "    </tr>\n",
              "    <tr>\n",
              "      <th>2</th>\n",
              "      <td>-1.836847</td>\n",
              "      <td>-0.130676</td>\n",
              "      <td>-1.470091</td>\n",
              "      <td>-1.397197</td>\n",
              "    </tr>\n",
              "    <tr>\n",
              "      <th>3</th>\n",
              "      <td>0.404443</td>\n",
              "      <td>-2.056420</td>\n",
              "      <td>0.419799</td>\n",
              "      <td>0.418789</td>\n",
              "    </tr>\n",
              "    <tr>\n",
              "      <th>4</th>\n",
              "      <td>-1.247034</td>\n",
              "      <td>0.832197</td>\n",
              "      <td>-1.192166</td>\n",
              "      <td>-1.267484</td>\n",
              "    </tr>\n",
              "  </tbody>\n",
              "</table>\n",
              "</div>"
            ],
            "text/plain": [
              "   SepalLength(cm)  SepalWidth(cm)  PetalLength(cm)  PetalWidth(cm)\n",
              "0        -0.421295        1.072915        -1.358921       -1.267484\n",
              "1        -1.129071        0.110043        -1.247751       -1.397197\n",
              "2        -1.836847       -0.130676        -1.470091       -1.397197\n",
              "3         0.404443       -2.056420         0.419799        0.418789\n",
              "4        -1.247034        0.832197        -1.192166       -1.267484"
            ]
          },
          "metadata": {
            "tags": []
          },
          "execution_count": 16
        }
      ]
    },
    {
      "cell_type": "markdown",
      "metadata": {
        "id": "KlbG3nDoIqIm",
        "colab_type": "text"
      },
      "source": [
        "Standarize Test Data"
      ]
    },
    {
      "cell_type": "code",
      "metadata": {
        "id": "TCUhM9ZXIpz8",
        "colab_type": "code",
        "outputId": "09e21308-64d9-47b5-bf89-f025deb78da2",
        "colab": {
          "base_uri": "https://localhost:8080/",
          "height": 204
        }
      },
      "source": [
        "vScaled_X_Data_Test = vStandarizeCriteria.transform(vX_Data_Test)\n",
        "vX_Data_Test = pd.DataFrame(vScaled_X_Data_Test, columns=vX_Data.columns)\n",
        "vX_Data_Test.head()"
      ],
      "execution_count": 0,
      "outputs": [
        {
          "output_type": "execute_result",
          "data": {
            "text/html": [
              "<div>\n",
              "<style scoped>\n",
              "    .dataframe tbody tr th:only-of-type {\n",
              "        vertical-align: middle;\n",
              "    }\n",
              "\n",
              "    .dataframe tbody tr th {\n",
              "        vertical-align: top;\n",
              "    }\n",
              "\n",
              "    .dataframe thead th {\n",
              "        text-align: right;\n",
              "    }\n",
              "</style>\n",
              "<table border=\"1\" class=\"dataframe\">\n",
              "  <thead>\n",
              "    <tr style=\"text-align: right;\">\n",
              "      <th></th>\n",
              "      <th>SepalLength(cm)</th>\n",
              "      <th>SepalWidth(cm)</th>\n",
              "      <th>PetalLength(cm)</th>\n",
              "      <th>PetalWidth(cm)</th>\n",
              "    </tr>\n",
              "  </thead>\n",
              "  <tbody>\n",
              "    <tr>\n",
              "      <th>0</th>\n",
              "      <td>-0.067407</td>\n",
              "      <td>-1.093548</td>\n",
              "      <td>0.141874</td>\n",
              "      <td>0.029649</td>\n",
              "    </tr>\n",
              "    <tr>\n",
              "      <th>1</th>\n",
              "      <td>-0.893146</td>\n",
              "      <td>1.795069</td>\n",
              "      <td>-1.025411</td>\n",
              "      <td>-1.008058</td>\n",
              "    </tr>\n",
              "    <tr>\n",
              "      <th>2</th>\n",
              "      <td>-1.011108</td>\n",
              "      <td>0.832197</td>\n",
              "      <td>-1.247751</td>\n",
              "      <td>-1.267484</td>\n",
              "    </tr>\n",
              "    <tr>\n",
              "      <th>3</th>\n",
              "      <td>-0.893146</td>\n",
              "      <td>1.554351</td>\n",
              "      <td>-1.247751</td>\n",
              "      <td>-1.008058</td>\n",
              "    </tr>\n",
              "    <tr>\n",
              "      <th>4</th>\n",
              "      <td>-0.185370</td>\n",
              "      <td>-0.130676</td>\n",
              "      <td>0.253044</td>\n",
              "      <td>0.029649</td>\n",
              "    </tr>\n",
              "  </tbody>\n",
              "</table>\n",
              "</div>"
            ],
            "text/plain": [
              "   SepalLength(cm)  SepalWidth(cm)  PetalLength(cm)  PetalWidth(cm)\n",
              "0        -0.067407       -1.093548         0.141874        0.029649\n",
              "1        -0.893146        1.795069        -1.025411       -1.008058\n",
              "2        -1.011108        0.832197        -1.247751       -1.267484\n",
              "3        -0.893146        1.554351        -1.247751       -1.008058\n",
              "4        -0.185370       -0.130676         0.253044        0.029649"
            ]
          },
          "metadata": {
            "tags": []
          },
          "execution_count": 17
        }
      ]
    },
    {
      "cell_type": "markdown",
      "metadata": {
        "id": "RS3Qtg7B7De5",
        "colab_type": "text"
      },
      "source": [
        "##Step Three (Cycle of Train Model - Test Data - Improve) for Naive Bayes Classifier\n",
        "\n",
        "It is a classification technique based on Bayes’ Theorem with an assumption of independence among predictors. In simple terms, a Naive Bayes classifier assumes that the presence of a particular feature in a class is unrelated to the presence of any other feature. Even if these features depend on each other or upon the existence of the other features, all of these properties independently contribute to the probability. Naive Bayes model is easy to build and particularly useful for very large data sets. Along with simplicity, Naive Bayes is known to outperform even highly sophisticated classification methods.\n",
        "\n",
        "Took description from: https://medium.com/@Mandysidana/machine-learning-types-of-classification-9497bd4f2e14"
      ]
    },
    {
      "cell_type": "code",
      "metadata": {
        "id": "7XO_J0zkl7XJ",
        "colab_type": "code",
        "outputId": "72093b21-9929-4ecd-9649-7fef67194d5f",
        "colab": {
          "base_uri": "https://localhost:8080/",
          "height": 51
        }
      },
      "source": [
        "nbg = GaussianNB().fit(vX_Data_Train, vY_Data_Train.values.ravel())\n",
        "print(\"Training set score: {:.3f}\".format(nbg.score(vX_Data_Train, vY_Data_Train.values.ravel())))\n",
        "print(\"Test set score: {:.3f}\".format(nbg.score(vX_Data_Test, vY_Data_Test.values.ravel())))"
      ],
      "execution_count": 0,
      "outputs": [
        {
          "output_type": "stream",
          "text": [
            "Training set score: 0.962\n",
            "Test set score: 0.956\n"
          ],
          "name": "stdout"
        }
      ]
    },
    {
      "cell_type": "markdown",
      "metadata": {
        "id": "8HQ1a9ZqqW0O",
        "colab_type": "text"
      },
      "source": [
        "We didnt find relevant hyper parameter configuration for the Gaussian Naive Bayes. However the score in both training and test data is very good."
      ]
    },
    {
      "cell_type": "markdown",
      "metadata": {
        "id": "ZsYiXv8uLl1F",
        "colab_type": "text"
      },
      "source": [
        "##Step Three (Cycle of Train Model - Test Data - Improve) for Nearest Neighbor\n",
        "The k-nearest-neighbors algorithm is a classification algorithm, and it is supervised: it takes a bunch of labelled points and uses them to learn how to label other points. To label a new point, it looks at the labelled points closest to that new point (those are its nearest neighbors), and has those neighbors vote, so whichever label the most of the neighbors have is the label for the new point (the “k” is the number of neighbors it checks).\n",
        "\n",
        "Took description from: https://medium.com/@Mandysidana/machine-learning-types-of-classification-9497bd4f2e14"
      ]
    },
    {
      "cell_type": "markdown",
      "metadata": {
        "id": "SEznWoPjGyNo",
        "colab_type": "text"
      },
      "source": [
        "Setting up the Neighbors_setting HyperParameters with 15"
      ]
    },
    {
      "cell_type": "code",
      "metadata": {
        "id": "LriYzf6Li3EY",
        "colab_type": "code",
        "colab": {}
      },
      "source": [
        "#List inicialization\n",
        "\n",
        "vTraining_Accuracy = []\n",
        "vTest_Accuracy = []\n",
        "\n",
        "neighbors_settings = range(1, 30)\n",
        "for n_neighbors in neighbors_settings:\n",
        "    # Classification model build\n",
        "    vKNN = KNeighborsClassifier(n_neighbors=n_neighbors)\n",
        "    vKNN.fit(vX_Data_Train, vY_Data_Train.values.ravel())\n",
        "    # Training set accuracy load\n",
        "    vTraining_Accuracy.append(vKNN.score(vX_Data_Train, vY_Data_Train))\n",
        "    # Spread accuracy load\n",
        "    vTest_Accuracy.append(vKNN.score(vX_Data_Test, vY_Data_Test))\n"
      ],
      "execution_count": 0,
      "outputs": []
    },
    {
      "cell_type": "markdown",
      "metadata": {
        "id": "ZJiZnDOkGwmY",
        "colab_type": "text"
      },
      "source": [
        "Showing the accuracy of the model with actual settings"
      ]
    },
    {
      "cell_type": "code",
      "metadata": {
        "id": "jmxzWMnbHHKw",
        "colab_type": "code",
        "outputId": "cc926ec7-f01a-4dcc-f0b7-2e7d64737ebc",
        "colab": {
          "base_uri": "https://localhost:8080/",
          "height": 303
        }
      },
      "source": [
        "#scikit-learn kNN\n",
        "\n",
        "plt.style.use('ggplot')\n",
        "%matplotlib inline\n",
        "\n",
        "plt.plot(neighbors_settings, vTraining_Accuracy, label=\"training accuracy\")\n",
        "plt.plot(neighbors_settings, vTest_Accuracy, label=\"test accuracy\")\n",
        "plt.ylabel(\"Accuracy\")\n",
        "plt.xlabel(\"n_neighbors\")\n",
        "plt.legend()"
      ],
      "execution_count": 0,
      "outputs": [
        {
          "output_type": "execute_result",
          "data": {
            "text/plain": [
              "<matplotlib.legend.Legend at 0x7ff569d154a8>"
            ]
          },
          "metadata": {
            "tags": []
          },
          "execution_count": 20
        },
        {
          "output_type": "display_data",
          "data": {
            "image/png": "[encoded data removed]",
            "text/plain": [
              "<Figure size 432x288 with 1 Axes>"
            ]
          },
          "metadata": {
            "tags": []
          }
        }
      ]
    },
    {
      "cell_type": "markdown",
      "metadata": {
        "id": "1lVL-DnBjf2x",
        "colab_type": "text"
      },
      "source": [
        "Looks like 11 neighbors is good setup to this data set, the training data got 97% accuaracy and 93% with the test data. "
      ]
    },
    {
      "cell_type": "markdown",
      "metadata": {
        "id": "nCiQRwQRLrrx",
        "colab_type": "text"
      },
      "source": [
        "##Step Three (Cycle of Train Model - Test Data - Improve) for Decision Trees\n",
        "Decision tree builds classification or regression models in the form of a tree structure. It breaks down a data set into smaller and smaller subsets while at the same time an associated decision tree is incrementally developed. The final result is a tree with decision nodes and leaf nodes. A decision node has two or more branches and a leaf node represents a classification or decision. The topmost decision node in a tree which corresponds to the best predictor called root node. Decision trees can handle both categorical and numerical data.\n",
        "\n",
        "Took description from: https://medium.com/@Mandysidana/machine-learning-types-of-classification-9497bd4f2e14"
      ]
    },
    {
      "cell_type": "markdown",
      "metadata": {
        "id": "OEKwdTXsE6A6",
        "colab_type": "text"
      },
      "source": [
        "Setting up the Decision Tree Classifier HyperParameters"
      ]
    },
    {
      "cell_type": "code",
      "metadata": {
        "id": "nxaIYBEMAsPh",
        "colab_type": "code",
        "colab": {}
      },
      "source": [
        "vTraining_Accuracy = []\n",
        "vTest_Accuracy = []\n",
        "\n",
        "max_depth_settings = range(1, 7)\n",
        "for max_depth in max_depth_settings:\n",
        "    # Classification model build\n",
        "    vTDM = DecisionTreeClassifier(max_depth = max_depth)\n",
        "    vTDM.fit(vX_Data_Train, vY_Data_Train)\n",
        "    # Training set accuracy load\n",
        "    vY_Predict = vTDM.predict(vX_Data_Test)\n",
        "    # Spread accuracy load\n",
        "    vTest_Accuracy.append(accuracy_score(vY_Data_Test, vY_Predict))\n",
        "    \n",
        "    \n",
        "    # Training set accuracy load\n",
        "    vY_Predict = vTDM.predict(vX_Data_Train)\n",
        "    vTraining_Accuracy.append(accuracy_score(vY_Data_Train, vY_Predict))\n",
        "\n"
      ],
      "execution_count": 0,
      "outputs": []
    },
    {
      "cell_type": "markdown",
      "metadata": {
        "id": "tvNGS8B_py-C",
        "colab_type": "text"
      },
      "source": [
        "Showing the accuracy of the model with actual settings"
      ]
    },
    {
      "cell_type": "code",
      "metadata": {
        "id": "6sJArhe7CMhS",
        "colab_type": "code",
        "outputId": "15a93950-f475-479d-dc87-bca6513ef487",
        "colab": {
          "base_uri": "https://localhost:8080/",
          "height": 303
        }
      },
      "source": [
        "plt.style.use('ggplot')\n",
        "%matplotlib inline\n",
        "\n",
        "plt.plot(max_depth_settings, vTraining_Accuracy, label=\"training accuracy\")\n",
        "plt.plot(max_depth_settings, vTest_Accuracy, label=\"test accuracy\")\n",
        "plt.ylabel(\"Accuracy\")\n",
        "plt.xlabel(\"max_depth\")\n",
        "plt.legend()"
      ],
      "execution_count": 0,
      "outputs": [
        {
          "output_type": "execute_result",
          "data": {
            "text/plain": [
              "<matplotlib.legend.Legend at 0x7ff5674cbba8>"
            ]
          },
          "metadata": {
            "tags": []
          },
          "execution_count": 22
        },
        {
          "output_type": "display_data",
          "data": {
            "image/png": "[encoded data removed]",
            "text/plain": [
              "<Figure size 432x288 with 1 Axes>"
            ]
          },
          "metadata": {
            "tags": []
          }
        }
      ]
    },
    {
      "cell_type": "markdown",
      "metadata": {
        "id": "uqkCBEkkrwKu",
        "colab_type": "text"
      },
      "source": [
        "After max_depth=3 , the results are the same. Thats is because we are working with a dataSet with 4 dimensions on the X."
      ]
    },
    {
      "cell_type": "markdown",
      "metadata": {
        "id": "FhRTd-56E5tw",
        "colab_type": "text"
      },
      "source": [
        "## Step Three (Cycle of Train Model - Test Data - Improve) for AdaBoost - Ensemble Model\n",
        "The process of generating models from data is called learning or training and the learned model can be called as hypothesis or learner. The learning algorithms which construct a set of classifiers and then classify new data points by taking a choice of their predictions are known as Ensemble methods.\n",
        "\n",
        "It has been discovered that ensembles are often much more accurate than the individual classifiers which make them up. The ensemble methods, also known as committee-based learning or learning multiple classifier systems train multiple hypotheses to solve the same problem. One of the most common examples of ensemble modelling is the random forest trees where a number of decision trees are used to predict outcomes.\n",
        "\n",
        "Took description from: https://www.analyticsindiamag.com/basics-of-ensemble-learning-in-classification-techniques-explained/\n",
        "\n",
        "Soo in simple words, it tries to combines diferents or same algorithms and aplying diferents configuration to get a better accuaricy from the problem."
      ]
    },
    {
      "cell_type": "markdown",
      "metadata": {
        "id": "g1PEskjv76q4",
        "colab_type": "text"
      },
      "source": [
        "###AdaBoost (Adaptive Boosting)\n",
        "\n",
        "The term ‘Boosting’ refers to a family of algorithms which converts weak learner to strong learners.\n",
        "\n",
        "It fits a sequence of weak learners on different weighted training data. It starts by predicting original data set and gives equal weight to each observation. If prediction is incorrect using the first learner, then it gives higher weight to observation which have been predicted incorrectly. Being an iterative process, it continues to add learner(s) until a limit is reached in the number of models or accuracy.\n",
        "\n",
        "Mostly, we use decision stamps with AdaBoost. But, we can use any machine learning algorithms as base learner if it accepts weight on training data set. We can use AdaBoost algorithms for both classification and regression problem.\n",
        "\n",
        "Took description from: https://towardsdatascience.com/ensemble-learning-in-machine-learning-getting-started-4ed85eb38e00\n",
        "\n"
      ]
    },
    {
      "cell_type": "code",
      "metadata": {
        "id": "mWiHYRGD8Siy",
        "colab_type": "code",
        "colab": {}
      },
      "source": [
        "\n",
        "\n",
        "\n",
        "clf = AdaBoostClassifier(n_estimators=100, base_estimator=DecisionTreeClassifier(),learning_rate=1)\n",
        "#Above I have used decision tree as a base estimator, you can use any ML learner as base estimator if it accepts sample weight \n",
        "clf.fit(vX_Data_Train,vY_Data_Train.values.ravel())\n",
        "clf.score(vX_Data_Test,vY_Data_Test.values.ravel())\n",
        "\n",
        "\n",
        "vTraining_Accuracy = []\n",
        "vTest_Accuracy = []\n",
        "\n",
        "vN_estimators = range(100, 1000,100)\n",
        "for vActual_Estimator in vN_estimators:\n",
        "    vModel = AdaBoostClassifier(n_estimators=vActual_Estimator, base_estimator=DecisionTreeClassifier(),learning_rate=1)\n",
        "\n",
        "    vModel.fit(vX_Data_Train,vY_Data_Train.values.ravel())\n",
        "    \n",
        "    #Evaluate Using Test data\n",
        "    vTest_Accuracy.append(clf.score(vX_Data_Test,vY_Data_Test.values.ravel()))\n",
        "    \n",
        "    \n",
        "    #Evaluate Using Training data\n",
        "    vTraining_Accuracy.append(clf.score(vX_Data_Train,vY_Data_Train.values.ravel()))\n"
      ],
      "execution_count": 0,
      "outputs": []
    },
    {
      "cell_type": "code",
      "metadata": {
        "id": "_tNyZzOzMTCD",
        "colab_type": "code",
        "outputId": "d6da85c3-76ff-49ed-afad-599fb763f906",
        "colab": {
          "base_uri": "https://localhost:8080/",
          "height": 303
        }
      },
      "source": [
        "plt.style.use('ggplot')\n",
        "%matplotlib inline\n",
        "\n",
        "plt.plot(vN_estimators, vTraining_Accuracy, label=\"training accuracy\")\n",
        "plt.plot(vN_estimators, vTest_Accuracy, label=\"test accuracy\")\n",
        "plt.ylabel(\"Accuracy\")\n",
        "plt.xlabel(\"n_estimators\")\n",
        "plt.legend()"
      ],
      "execution_count": 0,
      "outputs": [
        {
          "output_type": "execute_result",
          "data": {
            "text/plain": [
              "<matplotlib.legend.Legend at 0x7ff567447550>"
            ]
          },
          "metadata": {
            "tags": []
          },
          "execution_count": 24
        },
        {
          "output_type": "display_data",
          "data": {
            "image/png": "[encoded data removed]",
            "text/plain": [
              "<Figure size 432x288 with 1 Axes>"
            ]
          },
          "metadata": {
            "tags": []
          }
        }
      ]
    },
    {
      "cell_type": "markdown",
      "metadata": {
        "id": "iO6OTsKbxj1_",
        "colab_type": "text"
      },
      "source": [
        "Because AdaBoost works with Trees as well , theres not an improve changing Hyperparameter estimator, because the small amout of features."
      ]
    },
    {
      "cell_type": "markdown",
      "metadata": {
        "id": "E1UUGh6BjJ5X",
        "colab_type": "text"
      },
      "source": [
        "##Conclusions\n",
        "\n",
        "\n",
        "*   Trees algorithms and hyper parameters configuration makes more sense when we are dealing with lots of features. Still with a basic configuration with 3 depth we got a good result.\n",
        "*   Normalization and Standarization is with a small scale of numbers is not a big improve, however its helps like in the case of the Irish Flower Problem that the features are in CM with similar values between 0.1 - 7.9  . I would definitely recommend it when the scales of each feature is very diferent.\n",
        "*   In the Nearest Neighbor algorithm the most we set in the Neighbor´s hyperparameter it gets worst and worst. I´ll say that happens after Neighbor=15 because the nature of our data with small amouts of features.\n",
        "*  In our next investigation we will definetly use a dataset with more features so whe can get more interesenting results and if we want to see the behavior with small and configurations to set.\n"
      ]
    }
  ]
}
