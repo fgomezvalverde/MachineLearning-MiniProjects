{
 "cells": [
  {
   "cell_type": "markdown",
   "metadata": {},
   "source": [
    "# Imports and Dependencies"
   ]
  },
  {
   "cell_type": "code",
   "execution_count": 1,
   "metadata": {},
   "outputs": [],
   "source": [
    "from sklearn import preprocessing\n",
    "import numpy as np\n",
    "import pandas as pd"
   ]
  },
  {
   "cell_type": "markdown",
   "metadata": {},
   "source": [
    "# Tarea 1 - Fabian Gomez - Andrea Exarahi"
   ]
  },
  {
   "cell_type": "markdown",
   "metadata": {},
   "source": [
    "Crear un ambiente de trabajo (.ipynb) basado en PYTHON3 y llamarle Tarea-1.ipynb, adem´as debe contener las librer´ıas: numpy, matplotlib, scikit-learn, pandas, jupyter notebook como m´ınimo, puede agregar las que considere necesario. El objetivo de esta Tarea 1 consiste en normalizar y estandarizar el set de datos de daily-min-temperatures.csv de forma manual y autom´atica a partir de scikit-learn o la librer´ıa que considere apropiada. El entregable consiste en el url de la notebook Tarea-1.ipynb en GITHUB. Enviar por email (fmeza@itcr.ac.cr) el url a m´as tardar el lunes 22 de julio antes de las 4:59pm, env´ıos pasado el limite de entrega se aplicar´a la penalizaci´on discutida en clase."
   ]
  },
  {
   "cell_type": "code",
   "execution_count": 2,
   "metadata": {},
   "outputs": [],
   "source": [
    "def Normalize_(data):\n",
    "    vMin = data.min()\n",
    "    vMax = data.max()\n",
    "    #print(\"Min:\",vMin)\n",
    "    #print(\"vMax:\",vMax)\n",
    "    return (data - vMin) / (vMax - vMin)   \n",
    "\n",
    "def Standarize_(data):\n",
    "    vMean = data.mean()\n",
    "    vSTD =  data.std()\n",
    "    return (data - vMean) / vSTD"
   ]
  },
  {
   "cell_type": "markdown",
   "metadata": {},
   "source": [
    "## Normalize and Standarize Temp Column"
   ]
  },
  {
   "cell_type": "code",
   "execution_count": 3,
   "metadata": {},
   "outputs": [
    {
     "name": "stdout",
     "output_type": "stream",
     "text": [
      "Automatic Normalized: [[0.02880175 0.02490586 0.02615811 ... 0.01878375 0.0218448  0.01808805]]\n",
      "Manual Normalized: [0.78707224 0.68060837 0.7148289  ... 0.51330798 0.59695817 0.49429658]\n",
      "Automatic Normalized: [2.33888328 1.65113873 1.87219948 ... 0.5703973  1.11076801 0.44758577]\n",
      "Manual Standarize: [2.33888328 1.65113873 1.87219948 ... 0.5703973  1.11076801 0.44758577]\n"
     ]
    }
   ],
   "source": [
    "# Get dataset\n",
    "df = pd.read_csv(\"https://tecdigital.tec.ac.cr/dotlrn/file-storage/view/dotlrn_fs_67372028_root_folder%2Fdaily-min-temperatures.csv\", sep=\",\")\n",
    "\n",
    "#print(df)\n",
    "\n",
    "# Normalize Temp column\n",
    "vTemp_Array = np.array(df['Temp'])\n",
    "#print(vTemp_Array)\n",
    "# normalize data Temp Column using scikit-learn\n",
    "vNormalized_Temp_Array = preprocessing.normalize([vTemp_Array])\n",
    "print(\"Automatic Normalized:\",vNormalized_Temp_Array)\n",
    "print(\"Manual Normalized:\",Normalize_(vTemp_Array))\n",
    "\n",
    "# standardize data Temp Column using scikit-learn\n",
    "vStandardized_Temp_Array = preprocessing.scale(vTemp_Array)\n",
    "print(\"Automatic Normalized:\",vStandardized_Temp_Array)\n",
    "print(\"Manual Standarize:\",Standarize_(vTemp_Array))\n",
    "\n",
    "\n"
   ]
  },
  {
   "cell_type": "markdown",
   "metadata": {},
   "source": [
    "## Normalize and Standarize Date Column"
   ]
  },
  {
   "cell_type": "code",
   "execution_count": 4,
   "metadata": {},
   "outputs": [
    {
     "name": "stdout",
     "output_type": "stream",
     "text": [
      "Automatic Normalized: [[0.01120077 0.01120356 0.01120635 ... 0.02137291 0.02137569 0.02137848]]\n",
      "Manual Normalized: [0.00000000e+00 2.73897562e-04 5.47795125e-04 ... 9.99452205e-01\n",
      " 9.99726102e-01 1.00000000e+00]\n",
      "Automatic Normalized: [-1.73119721 -1.73024876 -1.72930032 ...  1.7296797   1.73062814\n",
      "  1.73157659]\n",
      "Manual Standarize: [-1.73119721 -1.73024876 -1.72930032 ...  1.7296797   1.73062814\n",
      "  1.73157659]\n"
     ]
    }
   ],
   "source": [
    "# Normalize Date column\n",
    "vDate_Array = np.array(pd.to_datetime(df['Date']).astype('int64'))\n",
    "#print(vDate_Array)\n",
    "# normalize data Date Column using scikit-learn\n",
    "vNormalized_Date_Array = preprocessing.normalize([vDate_Array])\n",
    "print(\"Automatic Normalized:\",vNormalized_Date_Array)\n",
    "print(\"Manual Normalized:\",Normalize_(vDate_Array))\n",
    "\n",
    "# standardize data Date Column using scikit-learn\n",
    "vStandardized_Date_Array = preprocessing.scale(vDate_Array)\n",
    "print(\"Automatic Normalized:\",vStandardized_Date_Array)\n",
    "print(\"Manual Standarize:\",Standarize_(vDate_Array))"
   ]
  },
  {
   "cell_type": "code",
   "execution_count": null,
   "metadata": {},
   "outputs": [],
   "source": []
  }
 ],
 "metadata": {
  "kernelspec": {
   "display_name": "Python 3",
   "language": "python",
   "name": "python3"
  },
  "language_info": {
   "codemirror_mode": {
    "name": "ipython",
    "version": 3
   },
   "file_extension": ".py",
   "mimetype": "text/x-python",
   "name": "python",
   "nbconvert_exporter": "python",
   "pygments_lexer": "ipython3",
   "version": "3.7.3"
  }
 },
 "nbformat": 4,
 "nbformat_minor": 2
}
